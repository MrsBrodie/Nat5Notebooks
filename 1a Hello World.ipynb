{
 "cells": [
  {
   "cell_type": "markdown",
   "id": "6528833c",
   "metadata": {},
   "source": [
    "<div class = \"alert alert-block alert-info\">\n",
    "    <h1>National 5</h1><b><h1>Task 1a- Hello World </h1></b><hr>\n",
    "   \n",
    "</div>\n",
    "\n",
    "\n",
    "<div class = \"alert alert-block alert-success\">\n",
    "    <b> Learning Aims</b><br>✔\tPractice running code with an output only <br>\n",
    "  \n",
    "   \n",
    "</div>\n",
    " \n",
    "---"
   ]
  },
  {
   "attachments": {},
   "cell_type": "markdown",
   "id": "437abd41",
   "metadata": {},
   "source": [
    "Your first computer task will be to create a program that will display “Hello World” on the screen. \n"
   ]
  },
  {
   "cell_type": "code",
   "execution_count": null,
   "id": "5bba8072",
   "metadata": {},
   "outputs": [],
   "source": [
    "# Write your code here"
   ]
  }
 ],
 "metadata": {
  "kernelspec": {
   "display_name": "Python 3 (ipykernel)",
   "language": "python",
   "name": "python3"
  },
  "language_info": {
   "codemirror_mode": {
    "name": "ipython",
    "version": 3
   },
   "file_extension": ".py",
   "mimetype": "text/x-python",
   "name": "python",
   "nbconvert_exporter": "python",
   "pygments_lexer": "ipython3",
   "version": "3.9.13"
  }
 },
 "nbformat": 4,
 "nbformat_minor": 5
}
